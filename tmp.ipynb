{
 "cells": [
  {
   "cell_type": "code",
   "execution_count": null,
   "metadata": {},
   "outputs": [],
   "source": [
    "from bs4 import BeautifulSoup\n",
    "import yaml\n",
    "from collections import OrderedDict\n",
    "from pprint import pprint\n",
    "\n",
    "with open('Prak EnTech Homepage.htm', 'r', encoding='utf-8') as f:html_content = f.read()\n",
    "soup = BeautifulSoup(html_content, 'html.parser')\n",
    "\n",
    "dictionary=OrderedDict()\n",
    "\n",
    "def style(st):\n",
    "    dit = {}\n",
    "    st = st.split(\";\")\n",
    "    for i in range(len(st)):\n",
    "        st[i] = st[i].split(\":\")\n",
    "        dit[st[i][0]] = st[i][1]\n",
    "    return dit\n",
    "\n",
    "def checktags(tag):\n",
    "    for i in dictionary:\n",
    "        for j in dictionary[i][\"children\"]:\n",
    "            if j == tag.get(\"id\"):\n",
    "                return (True,dictionary[i]['children'][j])\n",
    "    return (False,None)\n",
    "\n",
    "# def traverse_dict(tagid,tag):\n",
    "#     for key, value in dictionary.items():\n",
    "#         if key==tagid:\n",
    "#             dictionary[key][\"children\"] = children(tag)\n",
    "#         if isinstance(value, dict):\n",
    "#             try:traverse_dict(tagid,tag)\n",
    "#             except:return\n",
    "\n",
    "def children(tag2):\n",
    "    dit2 = {}\n",
    "    for tag in soup.find_all():\n",
    "        if tag.parent==tag2:\n",
    "            try:\n",
    "                dit2[tag['id']]={}\n",
    "                try:\n",
    "                    dit2[tag['id']]['css']=style(tag['style'])\n",
    "                except:\n",
    "                    dit2[tag['id']]['css']=\"\"\n",
    "                try:\n",
    "                    if tag.name==\"span\":dit2[tag['id']]['type']=\"text\"\n",
    "                    else:dit2[tag['id']]['type']=tag.name\n",
    "                except:\n",
    "                    dit2[tag['id']]['type']=\"\"\n",
    "                try:\n",
    "                    dit2[tag['id']]['classname']=tag['class'][0]\n",
    "                except:\n",
    "                    dit2[tag['id']]['classname']=\"\"\n",
    "            except:pass\n",
    "    return dit2\n",
    "\n",
    "for k in range(3):\n",
    "    for tag in soup.find_all():\n",
    "        if not checktags(tag)[0]:\n",
    "            try:\n",
    "                try:\n",
    "                    dictionary[tag['id']]={}\n",
    "                    dictionary[tag['id']]['children'] = children(tag)\n",
    "                    try:\n",
    "                        dictionary[tag['id']]['css']=style(tag['style'])\n",
    "                    except:\n",
    "                        dictionary[tag['id']]['css']=\"\"\n",
    "                    try:\n",
    "                        dictionary[tag['id']]['type']=tag.name\n",
    "                    except:\n",
    "                        dictionary[tag['id']]['type']=\"\"\n",
    "                    try:\n",
    "                        dictionary[tag['id']]['classname']=tag['class'][0]\n",
    "                    except:\n",
    "                        dictionary[tag['id']]['classname']=\"\"\n",
    "                except:pass\n",
    "            except:pass\n",
    "\n",
    "        if checktags(tag)[0]:\n",
    "            dictchild = children(tag)\n",
    "            checktags(tag)[1]['children'] = dictchild\n",
    "        # traverse_dict(tag.get('id'),tag)\n",
    "yaml_data = yaml.dump(dictionary, default_flow_style=False)\n",
    "yaml_data=yaml_data[yaml_data.index('\\n')+1:]\n",
    "# pprint(dictionary)\n",
    "\n",
    "with open('template.yaml', 'w') as f:f.write(yaml_data)"
   ]
  },
  {
   "cell_type": "code",
   "execution_count": 1,
   "metadata": {},
   "outputs": [
    {
     "name": "stdout",
     "output_type": "stream",
     "text": [
      "1\n",
      "12\n",
      "2\n",
      "23\n",
      "3\n",
      "34\n"
     ]
    }
   ],
   "source": [
    "dict2 = {1:12,2:23,3:34}\n",
    "for i in dict2:\n",
    "    print(i)\n",
    "    print(dict2[i])"
   ]
  },
  {
   "cell_type": "code",
   "execution_count": 4,
   "metadata": {},
   "outputs": [
    {
     "name": "stdout",
     "output_type": "stream",
     "text": [
      "key1: value1\n",
      "key2: {'key3': 'value3', 'key4': {'key5': 'value5', 'key6': 'value6'}}\n",
      "  key3: value3\n",
      "  key4: {'key5': 'value5', 'key6': 'value6'}\n",
      "    key5: value5\n",
      "    key6: value6\n",
      "key7: value7\n"
     ]
    }
   ],
   "source": [
    "# Your dictionary (replace this with your actual dictionary)\n",
    "sample_dict = {\n",
    "    'key1': 'value1',\n",
    "    'key2': {\n",
    "        'key3': 'value3',\n",
    "        'key4': {\n",
    "            'key5': 'value5',\n",
    "            'key6': 'value6'\n",
    "        }\n",
    "    },\n",
    "    'key7': 'value7'\n",
    "}\n",
    "def traverse_dict(dictionary, indent=0):\n",
    "    for key, value in dictionary.items():\n",
    "        print(f\"{'  ' * indent}{key}: {value}\")\n",
    "        if isinstance(value, dict):\n",
    "            traverse_dict(value, indent + 1)\n",
    "\n",
    "# Start traversing from the root of the dictionary\n",
    "traverse_dict(sample_dict)\n"
   ]
  },
  {
   "cell_type": "code",
   "execution_count": null,
   "metadata": {},
   "outputs": [],
   "source": []
  }
 ],
 "metadata": {
  "kernelspec": {
   "display_name": "Python 3",
   "language": "python",
   "name": "python3"
  },
  "language_info": {
   "codemirror_mode": {
    "name": "ipython",
    "version": 3
   },
   "file_extension": ".py",
   "mimetype": "text/x-python",
   "name": "python",
   "nbconvert_exporter": "python",
   "pygments_lexer": "ipython3",
   "version": "3.12.0"
  }
 },
 "nbformat": 4,
 "nbformat_minor": 2
}
